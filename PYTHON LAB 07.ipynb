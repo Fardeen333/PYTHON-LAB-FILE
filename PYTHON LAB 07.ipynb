{
 "cells": [
  {
   "cell_type": "code",
   "execution_count": 3,
   "metadata": {},
   "outputs": [],
   "source": [
    "#FARDEEN\n",
    "#B tech CSE 4A\n",
    "#2K18CSUN01061\n",
    "#LAB 07"
   ]
  },
  {
   "cell_type": "code",
   "execution_count": 2,
   "metadata": {},
   "outputs": [
    {
     "name": "stdout",
     "output_type": "stream",
     "text": [
      "Hello from my function\n"
     ]
    }
   ],
   "source": [
    "def my_function():\n",
    "    print(\"Hello from my function\")\n",
    "my_function()\n"
   ]
  },
  {
   "cell_type": "code",
   "execution_count": 11,
   "metadata": {},
   "outputs": [
    {
     "name": "stdout",
     "output_type": "stream",
     "text": [
      "AHello\n",
      "BHello\n",
      "CHello\n"
     ]
    }
   ],
   "source": [
    "def my_function(fname):\n",
    "    print(fname+\"Hello\")\n",
    "my_function(\"A\")\n",
    "my_function(\"B\")\n",
    "my_function(\"C\")"
   ]
  },
  {
   "cell_type": "code",
   "execution_count": 4,
   "metadata": {},
   "outputs": [
    {
     "name": "stdout",
     "output_type": "stream",
     "text": [
      "AB\n",
      "XY\n"
     ]
    }
   ],
   "source": [
    "def my_function(fname,lname):\n",
    "    print(fname+lname)\n",
    "my_function(\"A\",\"B\")\n",
    "my_function(\"X\",\"Y\")"
   ]
  },
  {
   "cell_type": "code",
   "execution_count": 10,
   "metadata": {},
   "outputs": [
    {
     "name": "stdout",
     "output_type": "stream",
     "text": [
      "The Youngest child is Z\n"
     ]
    }
   ],
   "source": [
    "def my_function(*kids):\n",
    "    print(\"The Youngest child is \" +kids[2]) #this is for arbitrary argument\n",
    "my_function(\"X\",\"Y\",\"Z\")"
   ]
  },
  {
   "cell_type": "code",
   "execution_count": 12,
   "metadata": {},
   "outputs": [
    {
     "name": "stdout",
     "output_type": "stream",
     "text": [
      "The youngest child is B\n"
     ]
    }
   ],
   "source": [
    "def my_function(c3,c2,c1):\n",
    "    print(\"The youngest child is \"+c3)   #keyword argument\n",
    "my_function(c1=\"A\",c2=\"C\",c3=\"B\")"
   ]
  },
  {
   "cell_type": "code",
   "execution_count": 14,
   "metadata": {},
   "outputs": [
    {
     "name": "stdout",
     "output_type": "stream",
     "text": [
      "Last Name is Aggarwal\n"
     ]
    }
   ],
   "source": [
    "def my_function(**kids):\n",
    "    print(\"Last Name is \"+kids[\"lname\"])\n",
    "my_function(fname=\"Rahul\",lname=\"Aggarwal\")  #unknown no. of keyword argument"
   ]
  },
  {
   "cell_type": "code",
   "execution_count": 15,
   "metadata": {},
   "outputs": [
    {
     "name": "stdout",
     "output_type": "stream",
     "text": [
      "I live in Sweden\n",
      "I live in Canada\n",
      "I live in Norway\n"
     ]
    }
   ],
   "source": [
    "def my_function(country=\"Norway\"):    #default argument is passed\n",
    "    print(\"I live in \"+country)\n",
    "my_function(\"Sweden\")\n",
    "my_function(\"Canada\")\n",
    "my_function() #if nothing is passed default will get executed"
   ]
  },
  {
   "cell_type": "code",
   "execution_count": 16,
   "metadata": {},
   "outputs": [
    {
     "name": "stdout",
     "output_type": "stream",
     "text": [
      "orange\n",
      "apple\n",
      "banana\n"
     ]
    }
   ],
   "source": [
    "def my_function(food):\n",
    "    for x in food:\n",
    "        print(x)\n",
    "fruits=[\"orange\",\"apple\",\"banana\"]\n",
    "my_function(fruits)"
   ]
  },
  {
   "cell_type": "code",
   "execution_count": 19,
   "metadata": {},
   "outputs": [
    {
     "name": "stdout",
     "output_type": "stream",
     "text": [
      "15\n",
      "30\n"
     ]
    }
   ],
   "source": [
    "def my_function(x):\n",
    "    return 5*x\n",
    "print(my_function(3))\n",
    "print(my_function(6))"
   ]
  },
  {
   "cell_type": "code",
   "execution_count": 20,
   "metadata": {},
   "outputs": [
    {
     "name": "stdout",
     "output_type": "stream",
     "text": [
      "None\n",
      "None\n"
     ]
    }
   ],
   "source": [
    "def my_function(x):\n",
    "    pass\n",
    "print(my_function(3))\n",
    "print(my_function(6))"
   ]
  },
  {
   "cell_type": "code",
   "execution_count": 29,
   "metadata": {},
   "outputs": [
    {
     "name": "stdout",
     "output_type": "stream",
     "text": [
      "21\n"
     ]
    }
   ],
   "source": [
    "def rec(k):\n",
    "    if(k>0):\n",
    "        result=k+rec(k-1)\n",
    "    else:\n",
    "        result=0\n",
    "    return result\n",
    "print(rec(6))"
   ]
  },
  {
   "cell_type": "markdown",
   "metadata": {},
   "source": [
    "# LAB 8"
   ]
  },
  {
   "cell_type": "markdown",
   "metadata": {},
   "source": [
    "## Ques 1"
   ]
  },
  {
   "cell_type": "code",
   "execution_count": 11,
   "metadata": {},
   "outputs": [
    {
     "name": "stdout",
     "output_type": "stream",
     "text": [
      "Enter 1st number:9\n",
      "Enter 2nd number:6\n",
      "product= 54\n"
     ]
    }
   ],
   "source": [
    "def mul(x,y):\n",
    "    z=x*y\n",
    "    return(z)\n",
    "x=int(input(\"Enter 1st number:\"))\n",
    "y=int(input(\"Enter 2nd number:\"))\n",
    "z=mul(x,y)\n",
    "print(\"product=\",z)"
   ]
  },
  {
   "cell_type": "markdown",
   "metadata": {},
   "source": [
    "## Ques 2"
   ]
  },
  {
   "cell_type": "code",
   "execution_count": 17,
   "metadata": {},
   "outputs": [
    {
     "name": "stdout",
     "output_type": "stream",
     "text": [
      "Enter 1st number:8\n",
      "Enter 2nd number:9\n",
      "Sum= 17\n"
     ]
    }
   ],
   "source": [
    "def add(x,y):\n",
    "    z=x+y\n",
    "    return(z)\n",
    "a=int(input(\"Enter 1st number:\"))\n",
    "b=int(input(\"Enter 2nd number:\"))\n",
    "c=add(a,b)\n",
    "print(\"Sum=\",c)"
   ]
  },
  {
   "cell_type": "markdown",
   "metadata": {},
   "source": [
    "## Ques 3"
   ]
  },
  {
   "cell_type": "code",
   "execution_count": 15,
   "metadata": {},
   "outputs": [
    {
     "name": "stdout",
     "output_type": "stream",
     "text": [
      "Enter a number:5\n",
      "Factorial of the given number is= 120\n"
     ]
    }
   ],
   "source": [
    "def fact(n):\n",
    "    fact=1\n",
    "    for i in range(n,0,-1):\n",
    "        fact=fact*i\n",
    "    return(fact)\n",
    "a=int(input(\"Enter a number:\"))\n",
    "b=fact(a)\n",
    "print(\"Factorial of the given number is=\",b)\n",
    "    "
   ]
  },
  {
   "cell_type": "markdown",
   "metadata": {},
   "source": [
    "## Ques 4"
   ]
  },
  {
   "cell_type": "code",
   "execution_count": 23,
   "metadata": {},
   "outputs": [
    {
     "name": "stdout",
     "output_type": "stream",
     "text": [
      "0\n",
      "1\n",
      "1\n",
      "2\n",
      "3\n",
      "5\n",
      "8\n",
      "13\n",
      "21\n",
      "34\n",
      "None\n"
     ]
    }
   ],
   "source": [
    "def fibonacci(n):\n",
    "    a=0\n",
    "    b=1\n",
    "    print(a)\n",
    "    print(b)\n",
    "    for i in range(2,n):\n",
    "        c=a+b\n",
    "        a=b\n",
    "        b=c\n",
    "        print(b)\n",
    "print(fibonacci(10))"
   ]
  },
  {
   "cell_type": "markdown",
   "metadata": {},
   "source": [
    "## Ques 5"
   ]
  },
  {
   "cell_type": "code",
   "execution_count": 29,
   "metadata": {},
   "outputs": [
    {
     "name": "stdout",
     "output_type": "stream",
     "text": [
      "Enter first number:8\n",
      "Enter Second number:9\n",
      "Before swapping: 8 9\n",
      "After swapping 9 8\n"
     ]
    }
   ],
   "source": [
    "def swap(x,y):\n",
    "    print(\"Before swapping:\",x,y)\n",
    "    temp=0\n",
    "    temp=x\n",
    "    x=y\n",
    "    y=temp\n",
    "    print(\"After swapping\",x,y)\n",
    "a=int(input(\"Enter first number:\"))\n",
    "b=int(input(\"Enter Second number:\"))\n",
    "swap(a,b)"
   ]
  },
  {
   "cell_type": "markdown",
   "metadata": {},
   "source": [
    "## Ques 6"
   ]
  },
  {
   "cell_type": "code",
   "execution_count": 35,
   "metadata": {},
   "outputs": [
    {
     "name": "stdout",
     "output_type": "stream",
     "text": [
      "Enter the first number:9\n",
      "Enter the second number:45\n",
      "HCF is  9\n"
     ]
    }
   ],
   "source": [
    "def hcf(x,y):\n",
    "    dividend=x\n",
    "    divisor=y\n",
    "    while(dividend%divisor!=0):\n",
    "        rem=dividend%divisor\n",
    "        dividend=divisor\n",
    "        divisor=rem\n",
    "    return divisor\n",
    "a=int(input(\"Enter the first number:\"))\n",
    "b=int(input(\"Enter the second number:\"))\n",
    "print(\"HCF is \",hcf(a,b))"
   ]
  },
  {
   "cell_type": "markdown",
   "metadata": {},
   "source": [
    "## Ques 7"
   ]
  },
  {
   "cell_type": "code",
   "execution_count": 40,
   "metadata": {},
   "outputs": [
    {
     "name": "stdout",
     "output_type": "stream",
     "text": [
      "The ascii value of A is 65\n"
     ]
    }
   ],
   "source": [
    "def ascii(n):\n",
    "    print(\"The ascii value of\",n,\"is\",ord(n))\n",
    "ascii('A')"
   ]
  },
  {
   "cell_type": "markdown",
   "metadata": {},
   "source": [
    "## Ques 8"
   ]
  },
  {
   "cell_type": "code",
   "execution_count": 45,
   "metadata": {},
   "outputs": [
    {
     "name": "stdout",
     "output_type": "stream",
     "text": [
      "The ceil of 9.8 is :  10\n",
      "The floor of 9.8 is :  9\n"
     ]
    }
   ],
   "source": [
    "import math\n",
    "a = 9.8\n",
    "print(\"The ceil of 9.8 is : \",math.ceil(a)) \n",
    "print(\"The floor of 9.8 is : \",math.floor(a))"
   ]
  },
  {
   "cell_type": "markdown",
   "metadata": {},
   "source": [
    "## Ques 11"
   ]
  },
  {
   "cell_type": "code",
   "execution_count": 48,
   "metadata": {},
   "outputs": [
    {
     "name": "stdout",
     "output_type": "stream",
     "text": [
      "The youngest child is B\n"
     ]
    }
   ],
   "source": [
    "def my_function(c3,c2,c1):\n",
    "    print(\"The youngest child is \"+c3)   #keyword argument\n",
    "my_function(c1=\"A\",c2=\"C\",c3=\"B\")"
   ]
  },
  {
   "cell_type": "markdown",
   "metadata": {},
   "source": [
    "## Ques 12"
   ]
  },
  {
   "cell_type": "code",
   "execution_count": 49,
   "metadata": {},
   "outputs": [
    {
     "name": "stdout",
     "output_type": "stream",
     "text": [
      "I live in Sweden\n",
      "I live in Canada\n",
      "I live in Norway\n"
     ]
    }
   ],
   "source": [
    "def my_function(country=\"Norway\"):    #default argument is passed\n",
    "    print(\"I live in \"+country)\n",
    "my_function(\"Sweden\")\n",
    "my_function(\"Canada\")\n",
    "my_function() #if nothing is passed default will get executed"
   ]
  },
  {
   "cell_type": "code",
   "execution_count": null,
   "metadata": {},
   "outputs": [],
   "source": []
  }
 ],
 "metadata": {
  "kernelspec": {
   "display_name": "Python 3",
   "language": "python",
   "name": "python3"
  },
  "language_info": {
   "codemirror_mode": {
    "name": "ipython",
    "version": 3
   },
   "file_extension": ".py",
   "mimetype": "text/x-python",
   "name": "python",
   "nbconvert_exporter": "python",
   "pygments_lexer": "ipython3",
   "version": "3.7.4"
  }
 },
 "nbformat": 4,
 "nbformat_minor": 2
}
