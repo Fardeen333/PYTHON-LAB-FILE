{
 "cells": [
  {
   "cell_type": "code",
   "execution_count": null,
   "metadata": {},
   "outputs": [],
   "source": [
    "#FARDEEN\n",
    "#B tech CSE 4A\n",
    "#2K18CSUN01061\n",
    "#LAB 03"
   ]
  },
  {
   "cell_type": "code",
   "execution_count": 1,
   "metadata": {},
   "outputs": [
    {
     "name": "stdout",
     "output_type": "stream",
     "text": [
      "Hello World\n",
      "<class 'str'>\n",
      "hello\n"
     ]
    }
   ],
   "source": [
    "var1=\"Hello World\"\n",
    "print (var1)\n",
    "print(type(var1))\n",
    "print(\"hello\")"
   ]
  },
  {
   "cell_type": "markdown",
   "metadata": {},
   "source": [
    "QUES 1"
   ]
  },
  {
   "cell_type": "code",
   "execution_count": 26,
   "metadata": {},
   "outputs": [
    {
     "name": "stdout",
     "output_type": "stream",
     "text": [
      "Enter a string:Hello World\n",
      "Hello World\n",
      "Length of the entered Hello World is 11\n"
     ]
    }
   ],
   "source": [
    "var=str(input(\"Enter a string:\"))\n",
    "print(var)\n",
    "l=len(var)\n",
    "print(\"Length of the entered %s is %d\" %(var,l))"
   ]
  },
  {
   "cell_type": "markdown",
   "metadata": {},
   "source": [
    "QUES 2"
   ]
  },
  {
   "cell_type": "code",
   "execution_count": 29,
   "metadata": {},
   "outputs": [
    {
     "name": "stdout",
     "output_type": "stream",
     "text": [
      "Enter a String:Hello World\n",
      "Length of the entered string : 11\n"
     ]
    }
   ],
   "source": [
    "var=str(input(\"Enter a String:\"))\n",
    "count=0\n",
    "for x in var:\n",
    "    count=count+1\n",
    "print(\"Length of the entered string :\",count)\n"
   ]
  },
  {
   "cell_type": "markdown",
   "metadata": {},
   "source": [
    "QUES 1"
   ]
  },
  {
   "cell_type": "code",
   "execution_count": 28,
   "metadata": {},
   "outputs": [
    {
     "name": "stdout",
     "output_type": "stream",
     "text": [
      "Enter a string:Hello\n",
      "Hello\n",
      "Length of the entered string: 5\n"
     ]
    }
   ],
   "source": [
    "var=str(input(\"Enter a string:\"))\n",
    "print(var)\n",
    "l=len(var)\n",
    "print(\"Length of the entered string:\", l)"
   ]
  },
  {
   "cell_type": "markdown",
   "metadata": {},
   "source": [
    "QUES 3"
   ]
  },
  {
   "cell_type": "code",
   "execution_count": 30,
   "metadata": {},
   "outputs": [
    {
     "name": "stdout",
     "output_type": "stream",
     "text": [
      "ENter a StringHEllo worLD\n",
      "HELD\n"
     ]
    }
   ],
   "source": [
    "var=str(input(\"ENter a String\"))\n",
    "if len(var)<=2:\n",
    "    print(var)\n",
    "else:\n",
    "    var1=var[0:2]+var[-2:]\n",
    "print(var1)\n"
   ]
  },
  {
   "cell_type": "markdown",
   "metadata": {},
   "source": [
    "QUES 4"
   ]
  },
  {
   "cell_type": "code",
   "execution_count": 32,
   "metadata": {},
   "outputs": [
    {
     "name": "stdout",
     "output_type": "stream",
     "text": [
      "ENter a string:my mom makes pie\n",
      "my $o$ $akes pie\n"
     ]
    }
   ],
   "source": [
    "var=str(input(\"ENter a string:\"))\n",
    "l=var[0]\n",
    "new_str=var.replace(l,\"$\")\n",
    "print(l+new_str[1:])"
   ]
  },
  {
   "cell_type": "markdown",
   "metadata": {},
   "source": [
    "QUES 5"
   ]
  },
  {
   "cell_type": "code",
   "execution_count": 1,
   "metadata": {},
   "outputs": [
    {
     "name": "stdout",
     "output_type": "stream",
     "text": [
      "ENter a string:Hello\n",
      "Enter another stringWorld\n",
      "Wollo   Herld\n"
     ]
    }
   ],
   "source": [
    "str1=str(input(\"ENter a string:\"))\n",
    "str2=str(input(\"Enter another string\"))\n",
    "print(str2[0:2]+str1[2:],\" \",str1[0:2]+str2[2:])"
   ]
  },
  {
   "cell_type": "markdown",
   "metadata": {},
   "source": [
    "QUES 6"
   ]
  },
  {
   "cell_type": "code",
   "execution_count": 5,
   "metadata": {},
   "outputs": [
    {
     "name": "stdout",
     "output_type": "stream",
     "text": [
      "Enter a String:hello\n",
      "helloing\n"
     ]
    }
   ],
   "source": [
    "var=str(input(\"Enter a String:\"))\n",
    "if len(var)<3:\n",
    "    print(var)\n",
    "elif var[-3:]==\"ing\":\n",
    "    print(var+\"ly\")\n",
    "else:\n",
    "    print(var+\"ing\")\n",
    "\n",
    "    "
   ]
  },
  {
   "cell_type": "code",
   "execution_count": null,
   "metadata": {},
   "outputs": [],
   "source": []
  }
 ],
 "metadata": {
  "kernelspec": {
   "display_name": "Python 3",
   "language": "python",
   "name": "python3"
  },
  "language_info": {
   "codemirror_mode": {
    "name": "ipython",
    "version": 3
   },
   "file_extension": ".py",
   "mimetype": "text/x-python",
   "name": "python",
   "nbconvert_exporter": "python",
   "pygments_lexer": "ipython3",
   "version": "3.7.4"
  }
 },
 "nbformat": 4,
 "nbformat_minor": 2
}
