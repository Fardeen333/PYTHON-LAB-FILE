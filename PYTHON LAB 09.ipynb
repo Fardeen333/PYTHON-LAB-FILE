{
 "cells": [
  {
   "cell_type": "code",
   "execution_count": 1,
   "metadata": {},
   "outputs": [],
   "source": [
    "#FARDEEN\n",
    "#B tech CSE 4A\n",
    "#2K18CSUN01061\n",
    "#LAB 09"
   ]
  },
  {
   "cell_type": "code",
   "execution_count": 7,
   "metadata": {},
   "outputs": [
    {
     "name": "stdout",
     "output_type": "stream",
     "text": [
      "The colour of the animal leg is anything\n",
      "The colour of the DOG leg is Balck\n",
      "The colour of the TIGER leg is RED\n"
     ]
    }
   ],
   "source": [
    "#QUES1\n",
    "class Animal:\n",
    "    leg=\"anything\"\n",
    "    def call_leg1(self):\n",
    "        print(\"The colour of the animal leg is\",self.leg)\n",
    "class Dog(Animal):\n",
    "    def call_leg2(self):\n",
    "        self.leg=\"Balck\"\n",
    "        print(\"The colour of the DOG leg is\",self.leg)\n",
    "class Tiger(Dog):\n",
    "     def call_leg3(self):\n",
    "        self.leg=\"RED\"\n",
    "        print(\"The colour of the TIGER leg is\",self.leg)\n",
    "obj1=Tiger()\n",
    "obj1.call_leg1()\n",
    "obj1.call_leg2()\n",
    "obj1.call_leg3()"
   ]
  },
  {
   "cell_type": "code",
   "execution_count": 12,
   "metadata": {},
   "outputs": [
    {
     "name": "stdout",
     "output_type": "stream",
     "text": [
      "I am engineer\n",
      "I am manager\n"
     ]
    }
   ],
   "source": [
    "#QUES2\n",
    "class Employee:\n",
    "    a=\"I am engineer\"\n",
    "    b=\"I am manager\"\n",
    "class Engineer(Employee):\n",
    "    def printdesignation(self):\n",
    "        print(self.a)\n",
    "class Manager(Engineer):\n",
    "    def printdesignation(self):\n",
    "        Engineer.printdesignation(self)\n",
    "        print(self.b)\n",
    "obj=Manager()\n",
    "obj.printdesignation()"
   ]
  },
  {
   "cell_type": "code",
   "execution_count": 15,
   "metadata": {},
   "outputs": [
    {
     "name": "stdout",
     "output_type": "stream",
     "text": [
      "In the class TEst the values assigned are as folow\n",
      "The value of a in class Test is 1\n",
      "The value of b in class Test is 2\n"
     ]
    }
   ],
   "source": [
    "#QUES3\n",
    "class Test:\n",
    "    a=1\n",
    "    b=2\n",
    "    def printvalues(self):\n",
    "        print(\"The value of a in class Test is\",self.a)\n",
    "        print(\"The value of b in class Test is\",self.b)\n",
    "print(\"In the class TEst the values assigned are as folow\")\n",
    "obj=Test()\n",
    "obj.printvalues()"
   ]
  },
  {
   "cell_type": "code",
   "execution_count": 16,
   "metadata": {},
   "outputs": [
    {
     "name": "stdout",
     "output_type": "stream",
     "text": [
      "I am engineer\n",
      "I am manager\n"
     ]
    }
   ],
   "source": [
    "#QUES4\n",
    "class Employee:\n",
    "    a=\"I am engineer\"\n",
    "    b=\"I am manager\"\n",
    "class Engineer(Employee):\n",
    "    def printdesignation(self):\n",
    "        print(self.a)\n",
    "class Manager(Engineer):\n",
    "    def printdesignation(self):\n",
    "        Engineer.printdesignation(self)\n",
    "        print(self.b)\n",
    "obj=Manager()\n",
    "obj.printdesignation()"
   ]
  },
  {
   "cell_type": "code",
   "execution_count": 19,
   "metadata": {},
   "outputs": [
    {
     "name": "stdout",
     "output_type": "stream",
     "text": [
      "I am the method of first class\n",
      "I am the method of second class\n",
      "I have inherited both the class class1 as well as class2\n"
     ]
    }
   ],
   "source": [
    "#QUES5\n",
    "class Class1:\n",
    "    def m1(self):\n",
    "        print(\"I am the method of first class\")\n",
    "class Class2:\n",
    "    def m2(self):\n",
    "        print(\"I am the method of second class\")\n",
    "class Test(Class1,Class2):\n",
    "    def m3(self):\n",
    "        print(\"I have inherited both the class class1 as well as class2\")\n",
    "obj=Test()\n",
    "obj.m1()\n",
    "obj.m2()\n",
    "obj.m3()"
   ]
  },
  {
   "cell_type": "code",
   "execution_count": null,
   "metadata": {},
   "outputs": [],
   "source": []
  }
 ],
 "metadata": {
  "kernelspec": {
   "display_name": "Python 3",
   "language": "python",
   "name": "python3"
  },
  "language_info": {
   "codemirror_mode": {
    "name": "ipython",
    "version": 3
   },
   "file_extension": ".py",
   "mimetype": "text/x-python",
   "name": "python",
   "nbconvert_exporter": "python",
   "pygments_lexer": "ipython3",
   "version": "3.7.4"
  }
 },
 "nbformat": 4,
 "nbformat_minor": 2
}
