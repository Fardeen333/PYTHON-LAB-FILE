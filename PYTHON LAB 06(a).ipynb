{
 "cells": [
  {
   "cell_type": "code",
   "execution_count": 30,
   "metadata": {},
   "outputs": [
    {
     "name": "stdout",
     "output_type": "stream",
     "text": [
      "{'brand': 'ford', 'model': 'mustang', 'year': '1964'}\n",
      "mustang\n"
     ]
    }
   ],
   "source": [
    "thisdict={\"brand\":\"ford\",\n",
    "          \"model\":\"mustang\",\n",
    "          \"year\":\"1964\"\n",
    "         }\n",
    "print(thisdict)   #print the complete dictionary\n",
    "x=thisdict[\"model\"]   #print value for the enetered key\n",
    "print(x)   "
   ]
  },
  {
   "cell_type": "code",
   "execution_count": 3,
   "metadata": {},
   "outputs": [
    {
     "name": "stdout",
     "output_type": "stream",
     "text": [
      "{'brand': 'ford', 'model': 'mustang', 'year': '1964'}\n",
      "mustang\n"
     ]
    }
   ],
   "source": [
    "thisdict={\"brand\":\"ford\",\n",
    "          \"model\":\"mustang\",\n",
    "          \"year\":\"1964\"\n",
    "         }\n",
    "print(thisdict)\n",
    "x=thisdict.get(\"model\") #print value for the entered key\n",
    "print(x)"
   ]
  },
  {
   "cell_type": "code",
   "execution_count": 4,
   "metadata": {},
   "outputs": [
    {
     "name": "stdout",
     "output_type": "stream",
     "text": [
      "{'brand': 'ford', 'model': 'mustang', 'year': '1964'}\n",
      "{'brand': 'ford', 'model': 'mustang', 'year': 2008}\n"
     ]
    }
   ],
   "source": [
    "thisdict={\"brand\":\"ford\",\n",
    "          \"model\":\"mustang\",\n",
    "          \"year\":\"1964\"\n",
    "         }\n",
    "print(thisdict)\n",
    "thisdict[\"year\"]=2008  #change the value for the given key\n",
    "print(thisdict)"
   ]
  },
  {
   "cell_type": "code",
   "execution_count": 7,
   "metadata": {},
   "outputs": [
    {
     "name": "stdout",
     "output_type": "stream",
     "text": [
      "brand\n",
      "model\n",
      "year\n"
     ]
    }
   ],
   "source": [
    "thisdict={\"brand\":\"ford\",\n",
    "          \"model\":\"mustang\",\n",
    "          \"year\":\"1964\"\n",
    "         }\n",
    "for x in thisdict:\n",
    "    print(x)   # print the keys"
   ]
  },
  {
   "cell_type": "code",
   "execution_count": 8,
   "metadata": {},
   "outputs": [
    {
     "name": "stdout",
     "output_type": "stream",
     "text": [
      "ford\n",
      "mustang\n",
      "1964\n"
     ]
    }
   ],
   "source": [
    "thisdict={\"brand\":\"ford\",\n",
    "          \"model\":\"mustang\",\n",
    "          \"year\":\"1964\"\n",
    "         }\n",
    "for x in thisdict:\n",
    "    print(thisdict[x])  #print the values"
   ]
  },
  {
   "cell_type": "code",
   "execution_count": 27,
   "metadata": {},
   "outputs": [
    {
     "name": "stdout",
     "output_type": "stream",
     "text": [
      "ford\n",
      "mustang\n",
      "1964\n"
     ]
    }
   ],
   "source": [
    "thisdict={\"brand\":\"ford\",\n",
    "          \"model\":\"mustang\",\n",
    "          \"year\":\"1964\"\n",
    "         }\n",
    "for x in thisdict.values():\n",
    "    print(x)   #print the values"
   ]
  },
  {
   "cell_type": "code",
   "execution_count": 29,
   "metadata": {},
   "outputs": [
    {
     "name": "stdout",
     "output_type": "stream",
     "text": [
      "brand ford\n",
      "model mustang\n",
      "year 1964\n"
     ]
    }
   ],
   "source": [
    "thisdict={\"brand\":\"ford\",\n",
    "          \"model\":\"mustang\",\n",
    "          \"year\":\"1964\"\n",
    "         }\n",
    "for x,y in thisdict.items():\n",
    "    print(x,y)  #print both keys and values"
   ]
  },
  {
   "cell_type": "code",
   "execution_count": 13,
   "metadata": {},
   "outputs": [
    {
     "name": "stdout",
     "output_type": "stream",
     "text": [
      "value exist\n"
     ]
    }
   ],
   "source": [
    "thisdict={\"brand\":\"ford\",\n",
    "          \"model\":\"mustang\",\n",
    "          \"year\":\"1964\"\n",
    "         }\n",
    "if \"model\" in thisdict:    #check whether value for the particular key exist or not\n",
    "    print(\"value exist\")"
   ]
  },
  {
   "cell_type": "code",
   "execution_count": 14,
   "metadata": {},
   "outputs": [
    {
     "name": "stdout",
     "output_type": "stream",
     "text": [
      "3\n"
     ]
    }
   ],
   "source": [
    "thisdict={\"brand\":\"ford\",\n",
    "          \"model\":\"mustang\",\n",
    "          \"year\":\"1964\"\n",
    "         }\n",
    "print(len(thisdict))  #gives the length of the dictionary"
   ]
  },
  {
   "cell_type": "code",
   "execution_count": 17,
   "metadata": {},
   "outputs": [
    {
     "name": "stdout",
     "output_type": "stream",
     "text": [
      "{'brand': 'ford', 'model': 'mustang', 'year': '1964', 'color': 'red'}\n"
     ]
    }
   ],
   "source": [
    "thisdict={\"brand\":\"ford\",\n",
    "          \"model\":\"mustang\",\n",
    "          \"year\":\"1964\"\n",
    "         }\n",
    "thisdict[\"color\"]=\"red\" #adds another pair to the dictionary \n",
    "print(thisdict)"
   ]
  },
  {
   "cell_type": "code",
   "execution_count": 16,
   "metadata": {},
   "outputs": [
    {
     "name": "stdout",
     "output_type": "stream",
     "text": [
      "{'brand': 'ford', 'year': '1964'}\n"
     ]
    }
   ],
   "source": [
    "thisdict={\"brand\":\"ford\",\n",
    "          \"model\":\"mustang\",\n",
    "          \"year\":\"1964\"\n",
    "         }\n",
    "thisdict.pop(\"model\")\n",
    "print(thisdict)  #poping a particular pair"
   ]
  },
  {
   "cell_type": "code",
   "execution_count": 20,
   "metadata": {},
   "outputs": [
    {
     "name": "stdout",
     "output_type": "stream",
     "text": [
      "{'brand': 'ford', 'model': 'mustang'}\n"
     ]
    }
   ],
   "source": [
    "thisdict={\"brand\":\"ford\",\n",
    "          \"model\":\"mustang\",\n",
    "          \"year\":\"1964\"\n",
    "         }\n",
    "thisdict.popitem()\n",
    "print(thisdict)   #remove the last inserted element"
   ]
  },
  {
   "cell_type": "code",
   "execution_count": 19,
   "metadata": {},
   "outputs": [
    {
     "name": "stdout",
     "output_type": "stream",
     "text": [
      "{'brand': 'ford', 'year': '1964'}\n"
     ]
    }
   ],
   "source": [
    "thisdict={\"brand\":\"ford\",\n",
    "          \"model\":\"mustang\",\n",
    "          \"year\":\"1964\"\n",
    "         }\n",
    "del thisdict[\"model\"] #it will delete this pair\n",
    "print(thisdict)"
   ]
  },
  {
   "cell_type": "code",
   "execution_count": 21,
   "metadata": {},
   "outputs": [
    {
     "ename": "NameError",
     "evalue": "name 'thisdict' is not defined",
     "output_type": "error",
     "traceback": [
      "\u001b[1;31m---------------------------------------------------------------------------\u001b[0m",
      "\u001b[1;31mNameError\u001b[0m                                 Traceback (most recent call last)",
      "\u001b[1;32m<ipython-input-21-a4208e921e78>\u001b[0m in \u001b[0;36m<module>\u001b[1;34m\u001b[0m\n\u001b[0;32m      4\u001b[0m          }\n\u001b[0;32m      5\u001b[0m \u001b[1;32mdel\u001b[0m \u001b[0mthisdict\u001b[0m\u001b[1;33m\u001b[0m\u001b[1;33m\u001b[0m\u001b[0m\n\u001b[1;32m----> 6\u001b[1;33m \u001b[0mprint\u001b[0m\u001b[1;33m(\u001b[0m\u001b[0mthisdict\u001b[0m\u001b[1;33m)\u001b[0m\u001b[1;33m\u001b[0m\u001b[1;33m\u001b[0m\u001b[0m\n\u001b[0m",
      "\u001b[1;31mNameError\u001b[0m: name 'thisdict' is not defined"
     ]
    }
   ],
   "source": [
    "thisdict={\"brand\":\"ford\",\n",
    "          \"model\":\"mustang\",\n",
    "          \"year\":\"1964\"\n",
    "         }\n",
    "del thisdict  #it will delete the complete dictionary\n",
    "print(thisdict)"
   ]
  },
  {
   "cell_type": "code",
   "execution_count": 22,
   "metadata": {},
   "outputs": [
    {
     "name": "stdout",
     "output_type": "stream",
     "text": [
      "{}\n"
     ]
    }
   ],
   "source": [
    "thisdict={\"brand\":\"ford\",\n",
    "          \"model\":\"mustang\",\n",
    "          \"year\":\"1964\"\n",
    "         }\n",
    "thisdict.clear()\n",
    "print(thisdict)  #this will clear the dictionary but still returns an empty dictionary"
   ]
  },
  {
   "cell_type": "code",
   "execution_count": 23,
   "metadata": {},
   "outputs": [
    {
     "name": "stdout",
     "output_type": "stream",
     "text": [
      "{'brand': 'ford', 'model': 'mustang', 'year': '1964'}\n",
      "{'brand': 'ford', 'model': 'mustang', 'year': '1964'}\n"
     ]
    }
   ],
   "source": [
    "thisdict={\"brand\":\"ford\",\n",
    "          \"model\":\"mustang\",\n",
    "          \"year\":\"1964\"\n",
    "         }\n",
    "mydict=thisdict.copy() #it will copy the dictionary\n",
    "print(thisdict)\n",
    "print(mydict)"
   ]
  },
  {
   "cell_type": "code",
   "execution_count": 25,
   "metadata": {},
   "outputs": [
    {
     "name": "stdout",
     "output_type": "stream",
     "text": [
      "{'brand': 'ford', 'model': 'mustang', 'year': '1964'}\n",
      "{'brand': 'ford', 'model': 'mustang', 'year': '1964'}\n"
     ]
    }
   ],
   "source": [
    "thisdict={\"brand\":\"ford\",\n",
    "          \"model\":\"mustang\",\n",
    "          \"year\":\"1964\"\n",
    "         }\n",
    "mydict=dict(thisdict)\n",
    "print(thisdict)\n",
    "print(mydict)"
   ]
  },
  {
   "cell_type": "markdown",
   "metadata": {},
   "source": [
    "## QUES 1 create a dictionary as discussed in the class."
   ]
  },
  {
   "cell_type": "code",
   "execution_count": 33,
   "metadata": {},
   "outputs": [
    {
     "name": "stdout",
     "output_type": "stream",
     "text": [
      "{'brand': 'ford', 'model': 'mustang', 'year': '1983'}\n"
     ]
    }
   ],
   "source": [
    "x={\"brand\":\"ford\",\n",
    "   \"model\":\"mustang\",\n",
    "   \"year\":\"1983\"\n",
    "  }\n",
    "print(x)"
   ]
  },
  {
   "cell_type": "markdown",
   "metadata": {},
   "source": [
    "## QUES 2 access the key for the value 1964 both without using get function and using get function"
   ]
  },
  {
   "cell_type": "code",
   "execution_count": 48,
   "metadata": {},
   "outputs": [
    {
     "name": "stdout",
     "output_type": "stream",
     "text": [
      "year\n"
     ]
    }
   ],
   "source": [
    "x={\"brand\":\"ford\",\n",
    "   \"model\":\"mustang\",\n",
    "   \"year\":\"1964\"\n",
    "  }\n",
    "value=\"1964\"\n",
    "for a,b in x.items():\n",
    "    if b==value:\n",
    "        print(a)"
   ]
  },
  {
   "cell_type": "code",
   "execution_count": 32,
   "metadata": {},
   "outputs": [
    {
     "name": "stdout",
     "output_type": "stream",
     "text": [
      "mustang\n"
     ]
    }
   ],
   "source": [
    "x={\"brand\":\"ford\",\n",
    "   \"model\":\"mustang\",\n",
    "   \"year\":\"1983\"\n",
    "  }\n",
    "y=x.get(\"model\")\n",
    "print(y)"
   ]
  },
  {
   "cell_type": "markdown",
   "metadata": {},
   "source": [
    "## QUES 3 change the value of model to ecosports"
   ]
  },
  {
   "cell_type": "code",
   "execution_count": 34,
   "metadata": {},
   "outputs": [
    {
     "name": "stdout",
     "output_type": "stream",
     "text": [
      "{'brand': 'ford', 'model': 'mustang', 'year': '1964'}\n",
      "{'brand': 'ford', 'model': 'ecosport', 'year': '1964'}\n"
     ]
    }
   ],
   "source": [
    "thisdict={\"brand\":\"ford\",\n",
    "          \"model\":\"mustang\",\n",
    "          \"year\":\"1964\"\n",
    "         }\n",
    "print(thisdict)\n",
    "thisdict[\"model\"]=\"ecosport\"  #change the value for the given key\n",
    "print(thisdict)"
   ]
  },
  {
   "cell_type": "markdown",
   "metadata": {},
   "source": [
    "## QUES 4 add the items model number m001 and colour as red in the dictionary"
   ]
  },
  {
   "cell_type": "code",
   "execution_count": 35,
   "metadata": {},
   "outputs": [
    {
     "name": "stdout",
     "output_type": "stream",
     "text": [
      "{'brand': 'ford', 'model': 'mustang', 'year': '1964', 'model number': 'M001', 'color': 'red'}\n"
     ]
    }
   ],
   "source": [
    "thisdict={\"brand\":\"ford\",\n",
    "          \"model\":\"mustang\",\n",
    "          \"year\":\"1964\"\n",
    "         }\n",
    "thisdict[\"model number\"]=\"M001\"\n",
    "thisdict[\"color\"]=\"red\" #adds another pair to the dictionary \n",
    "print(thisdict)"
   ]
  },
  {
   "cell_type": "markdown",
   "metadata": {},
   "source": [
    "## QUES 5 print the dictionary keys, values and both key-value pairs"
   ]
  },
  {
   "cell_type": "code",
   "execution_count": 38,
   "metadata": {},
   "outputs": [
    {
     "name": "stdout",
     "output_type": "stream",
     "text": [
      "brand\n",
      "model\n",
      "year\n",
      "ford\n",
      "mustang\n",
      "1964\n",
      "brand ford\n",
      "model mustang\n",
      "year 1964\n"
     ]
    }
   ],
   "source": [
    "thisdict={\"brand\":\"ford\",\n",
    "          \"model\":\"mustang\",\n",
    "          \"year\":\"1964\"\n",
    "         }\n",
    "for x in thisdict:\n",
    "    print(x)   # print the keys\n",
    "for x in thisdict:\n",
    "    print(thisdict[x])\n",
    "for x,y in thisdict.items():\n",
    "    print(x,y)  #print both keys and values"
   ]
  },
  {
   "cell_type": "markdown",
   "metadata": {},
   "source": [
    "## QUES 6 check if the model ecosport exists or not"
   ]
  },
  {
   "cell_type": "code",
   "execution_count": 44,
   "metadata": {},
   "outputs": [
    {
     "name": "stdout",
     "output_type": "stream",
     "text": [
      "{'brand': 'ford', 'model': 'mustang', 'year': '1964'}\n",
      "{'brand': 'ford', 'model': 'ecosport', 'year': '1964'}\n",
      "Exists\n"
     ]
    }
   ],
   "source": [
    "thisdict={\"brand\":\"ford\",\n",
    "          \"model\":\"mustang\",\n",
    "          \"year\":\"1964\"\n",
    "         }\n",
    "print(thisdict)\n",
    "thisdict[\"model\"]=\"ecosport\"  #change the value for the given key\n",
    "print(thisdict)\n",
    "if thisdict[\"model\"]==\"ecosport\":\n",
    "    print(\"Exists\")"
   ]
  },
  {
   "cell_type": "markdown",
   "metadata": {},
   "source": [
    "## QUES 7-remove the item with the key brand from the dictionary using 2 different function. Before removing the item ctreate 2 duplicate copies of the dictionary using 2 different functions\n"
   ]
  },
  {
   "cell_type": "code",
   "execution_count": 49,
   "metadata": {},
   "outputs": [
    {
     "name": "stdout",
     "output_type": "stream",
     "text": [
      "{'brand': 'ford', 'model': 'mustang', 'year': '1964'}\n",
      "First copy: {'brand': 'ford', 'model': 'mustang', 'year': '1964'}\n",
      "Second copy: {'brand': 'ford', 'model': 'mustang', 'year': '1964'}\n",
      "{'brand': 'ford', 'model': 'mustang'}\n",
      "{'model': 'mustang'}\n"
     ]
    }
   ],
   "source": [
    "thisdict={\"brand\":\"ford\",\n",
    "          \"model\":\"mustang\",\n",
    "          \"year\":\"1964\"\n",
    "         }\n",
    "print(thisdict)\n",
    "my1dict=thisdict.copy() #it will copy the dictionary\n",
    "print(\"First copy:\",my1dict)\n",
    "my2dict=dict(thisdict)\n",
    "print(\"Second copy:\",my2dict)\n",
    "thisdict.popitem()\n",
    "print(thisdict) \n",
    "thisdict.pop(\"brand\")\n",
    "print(thisdict)"
   ]
  },
  {
   "cell_type": "markdown",
   "metadata": {},
   "source": [
    "# nested dictionary"
   ]
  },
  {
   "cell_type": "code",
   "execution_count": 57,
   "metadata": {},
   "outputs": [
    {
     "name": "stdout",
     "output_type": "stream",
     "text": [
      "{'child1': {'name': 'A', 'year': 2004}, 'child2': {'name': 'B', 'yearr': 2008}}\n"
     ]
    }
   ],
   "source": [
    "myfamily={\n",
    "         \"child1\":{\"name\":\"A\",\n",
    "                   \"year\":2004\n",
    "                   },\n",
    "         \"child2\":{\"name\":\"B\",\n",
    "                   \"yearr\":2008\n",
    "                   }\n",
    "        }\n",
    "print(myfamily)"
   ]
  },
  {
   "cell_type": "code",
   "execution_count": 62,
   "metadata": {},
   "outputs": [
    {
     "name": "stdout",
     "output_type": "stream",
     "text": [
      "{'child1': {'name': 'A', 'year': 2004}, 'child2': {'name': 'B', 'year': 2008}}\n"
     ]
    }
   ],
   "source": [
    "child1={\"name\":\"A\",\"year\":2004}\n",
    "child2={\"name\":\"B\",\"year\":2008}\n",
    "myfamily={\"child1\":child1,\"child2\":child2}\n",
    "print(myfamily)\n",
    "\n",
    "        "
   ]
  },
  {
   "cell_type": "markdown",
   "metadata": {},
   "source": [
    "## QUES1"
   ]
  },
  {
   "cell_type": "code",
   "execution_count": 1,
   "metadata": {},
   "outputs": [
    {
     "name": "stdout",
     "output_type": "stream",
     "text": [
      "{'': ''}\n"
     ]
    }
   ],
   "source": [
    "a={\"\":\"\"}\n",
    "print(a)"
   ]
  },
  {
   "cell_type": "markdown",
   "metadata": {},
   "source": [
    "## QUES 2"
   ]
  },
  {
   "cell_type": "code",
   "execution_count": 3,
   "metadata": {},
   "outputs": [
    {
     "name": "stdout",
     "output_type": "stream",
     "text": [
      "{'A': '10', 'B': '20'}\n"
     ]
    }
   ],
   "source": [
    "a={\"A\":\"10\",\"B\":\"20\"}\n",
    "print(a)"
   ]
  },
  {
   "cell_type": "markdown",
   "metadata": {},
   "source": [
    "## QUES 3"
   ]
  },
  {
   "cell_type": "code",
   "execution_count": 4,
   "metadata": {},
   "outputs": [
    {
     "name": "stdout",
     "output_type": "stream",
     "text": [
      "{'brand': 'ford', 'model': 'mustang', 'year': '1964', 'insurance': 'True'}\n"
     ]
    }
   ],
   "source": [
    "a={\"brand\":\"ford\",\"model\":\"mustang\",\"year\":\"1964\",\"insurance\":\"True\"}\n",
    "print(a)"
   ]
  },
  {
   "cell_type": "markdown",
   "metadata": {},
   "source": [
    "## QUES 4"
   ]
  },
  {
   "cell_type": "code",
   "execution_count": 5,
   "metadata": {},
   "outputs": [
    {
     "name": "stdout",
     "output_type": "stream",
     "text": [
      "{'brand': 'ford', 'model': 'mustang', 'year': '1964'}\n"
     ]
    }
   ],
   "source": [
    "thisdict={\"brand\":\"ford\",\n",
    "          \"model\":\"mustang\",\n",
    "          \"year\":\"1964\"\n",
    "         }\n",
    "print(thisdict)"
   ]
  },
  {
   "cell_type": "markdown",
   "metadata": {},
   "source": [
    "## QUES 5"
   ]
  },
  {
   "cell_type": "code",
   "execution_count": 6,
   "metadata": {},
   "outputs": [
    {
     "name": "stdout",
     "output_type": "stream",
     "text": [
      "{'brand': 'ford', 'year': '1964'}\n"
     ]
    }
   ],
   "source": [
    "thisdict={\"brand\":\"ford\",\n",
    "          \"model\":\"mustang\",\n",
    "          \"year\":\"1964\"\n",
    "         }\n",
    "thisdict.pop(\"model\")\n",
    "print(thisdict)"
   ]
  },
  {
   "cell_type": "markdown",
   "metadata": {},
   "source": [
    "## QUES 6"
   ]
  },
  {
   "cell_type": "code",
   "execution_count": 9,
   "metadata": {},
   "outputs": [
    {
     "ename": "NameError",
     "evalue": "name 'thisdict' is not defined",
     "output_type": "error",
     "traceback": [
      "\u001b[1;31m---------------------------------------------------------------------------\u001b[0m",
      "\u001b[1;31mNameError\u001b[0m                                 Traceback (most recent call last)",
      "\u001b[1;32m<ipython-input-9-cbdf33d46abd>\u001b[0m in \u001b[0;36m<module>\u001b[1;34m\u001b[0m\n\u001b[0;32m      4\u001b[0m          }\n\u001b[0;32m      5\u001b[0m \u001b[1;32mdel\u001b[0m \u001b[0mthisdict\u001b[0m  \u001b[1;31m#it will delete the complete dictionary\u001b[0m\u001b[1;33m\u001b[0m\u001b[1;33m\u001b[0m\u001b[0m\n\u001b[1;32m----> 6\u001b[1;33m \u001b[0mprint\u001b[0m\u001b[1;33m(\u001b[0m\u001b[0mthisdict\u001b[0m\u001b[1;33m)\u001b[0m\u001b[1;33m\u001b[0m\u001b[1;33m\u001b[0m\u001b[0m\n\u001b[0m",
      "\u001b[1;31mNameError\u001b[0m: name 'thisdict' is not defined"
     ]
    }
   ],
   "source": [
    "thisdict={\"brand\":\"ford\",\n",
    "          \"model\":\"mustang\",\n",
    "          \"year\":\"1964\"\n",
    "         }\n",
    "del thisdict  #it will delete the complete dictionary\n",
    "print(thisdict)"
   ]
  },
  {
   "cell_type": "markdown",
   "metadata": {},
   "source": [
    "## QUES 7"
   ]
  },
  {
   "cell_type": "code",
   "execution_count": 10,
   "metadata": {},
   "outputs": [
    {
     "name": "stdout",
     "output_type": "stream",
     "text": [
      "{'brand': 'ford', 'model': 'mustang', 'year': '1964'}\n",
      "mustang\n"
     ]
    }
   ],
   "source": [
    "thisdict={\"brand\":\"ford\",\n",
    "          \"model\":\"mustang\",\n",
    "          \"year\":\"1964\"\n",
    "         }\n",
    "print(thisdict)   \n",
    "x=thisdict[\"model\"]   \n",
    "print(x) "
   ]
  },
  {
   "cell_type": "markdown",
   "metadata": {},
   "source": [
    "## QUES 8"
   ]
  },
  {
   "cell_type": "code",
   "execution_count": 12,
   "metadata": {},
   "outputs": [
    {
     "name": "stdout",
     "output_type": "stream",
     "text": [
      "value exist\n"
     ]
    }
   ],
   "source": [
    "thisdict={\"brand\":\"ford\",\n",
    "          \"model\":\"mustang\",\n",
    "          \"year\":\"1964\"\n",
    "         }\n",
    "if \"model\" in thisdict: \n",
    "    print(\"value exist\")"
   ]
  },
  {
   "cell_type": "markdown",
   "metadata": {},
   "source": [
    "## QUES 9"
   ]
  },
  {
   "cell_type": "code",
   "execution_count": null,
   "metadata": {},
   "outputs": [],
   "source": []
  }
 ],
 "metadata": {
  "kernelspec": {
   "display_name": "Python 3",
   "language": "python",
   "name": "python3"
  },
  "language_info": {
   "codemirror_mode": {
    "name": "ipython",
    "version": 3
   },
   "file_extension": ".py",
   "mimetype": "text/x-python",
   "name": "python",
   "nbconvert_exporter": "python",
   "pygments_lexer": "ipython3",
   "version": "3.7.4"
  }
 },
 "nbformat": 4,
 "nbformat_minor": 2
}
