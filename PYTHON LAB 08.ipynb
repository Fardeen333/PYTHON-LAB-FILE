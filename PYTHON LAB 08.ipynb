{
 "cells": [
  {
   "cell_type": "code",
   "execution_count": 1,
   "metadata": {},
   "outputs": [],
   "source": [
    "#FARDEEN\n",
    "#B. TECH CSE 4A\n",
    "#2K18CSUN01061\n",
    "#LAB 08"
   ]
  },
  {
   "cell_type": "code",
   "execution_count": 4,
   "metadata": {},
   "outputs": [
    {
     "name": "stdout",
     "output_type": "stream",
     "text": [
      "Enter the first side of the triangle5\n",
      "Enter the second side of the triangle6\n",
      "Enter the third side of the triangle7\n",
      "First side is 5.0\n",
      "Second side is 6.0\n",
      "Third side is 7.0\n"
     ]
    }
   ],
   "source": [
    "#QUES 1\n",
    "class Triangle:\n",
    "    a=0.0\n",
    "    b=0.0\n",
    "    c=0.0\n",
    "    def create_triangle(self):\n",
    "        self.a=float(input(\"Enter the first side of the triangle\"))\n",
    "        self.b=float(input(\"Enter the second side of the triangle\"))\n",
    "        self.c=float(input(\"Enter the third side of the triangle\"))\n",
    "    def print_sides(self):\n",
    "        print(\"First side is\",self.a)\n",
    "        print(\"Second side is\",self.b)\n",
    "        print(\"Third side is\",self.c)\n",
    "t1=Triangle()\n",
    "t1.create_triangle()\n",
    "t1.print_sides()    "
   ]
  },
  {
   "cell_type": "code",
   "execution_count": 7,
   "metadata": {},
   "outputs": [
    {
     "name": "stdout",
     "output_type": "stream",
     "text": [
      "Enter a string: Fardeen\n",
      "The Entered String is  Fardeen\n"
     ]
    }
   ],
   "source": [
    "#QUES 2\n",
    "class String:\n",
    "    def get_string(self):\n",
    "        self.a=input(\"Enter a string: \")\n",
    "    def print_string(self):                         \n",
    "        print(\"The Entered String is \",self.a) \n",
    "obj=String()\n",
    "obj.get_string()                \n",
    "obj.print_string()"
   ]
  },
  {
   "cell_type": "code",
   "execution_count": 10,
   "metadata": {},
   "outputs": [
    {
     "name": "stdout",
     "output_type": "stream",
     "text": [
      "Enter a string: Fardeen\n",
      "The Eentered String is  Fardeen\n"
     ]
    }
   ],
   "source": [
    "#QUES 2\n",
    "class String:\n",
    "    def get_string(self):\n",
    "        self.a=input(\"Enter a string: \")\n",
    "        return(self.a)\n",
    "obj=String()\n",
    "print(\"The Eentered String is \",obj.get_string())"
   ]
  },
  {
   "cell_type": "code",
   "execution_count": 16,
   "metadata": {},
   "outputs": [
    {
     "name": "stdout",
     "output_type": "stream",
     "text": [
      "The Perimeter of the rectangle is  200\n"
     ]
    }
   ],
   "source": [
    "#QUES 3\n",
    "class Rectangle:\n",
    "    l=0.0\n",
    "    w=0.0\n",
    "    def perimeter(self, len, wid):\n",
    "        self.l=len\n",
    "        self.w=wid\n",
    "        return(2*self.l*self.w)\n",
    "obj=Rectangle()\n",
    "print(\"The Perimeter of the rectangle is \",obj.perimeter(5,20))"
   ]
  },
  {
   "cell_type": "code",
   "execution_count": 20,
   "metadata": {},
   "outputs": [
    {
     "name": "stdout",
     "output_type": "stream",
     "text": [
      "The Circumference of the circle is  62.800000000000004\n",
      "The arae of the circle is  314.0\n"
     ]
    }
   ],
   "source": [
    "#QUES 4\n",
    "class Circle:\n",
    "    def __init__(self, radius):\n",
    "        self.r=radius\n",
    "    def perimeter(self):\n",
    "        return(2*3.14*self.r)\n",
    "    def area(self):\n",
    "        return(3.14*self.r*self.r)\n",
    "obj=Circle(10)\n",
    "print(\"The Circumference of the circle is \",obj.perimeter())\n",
    "print(\"The arae of the circle is \",obj.area())\n",
    "    "
   ]
  },
  {
   "cell_type": "code",
   "execution_count": 1,
   "metadata": {},
   "outputs": [
    {
     "name": "stdout",
     "output_type": "stream",
     "text": [
      "Enter radius:10\n",
      "The Circumference of the circle is  62.800000000000004\n",
      "The arae of the circle is  314.0\n"
     ]
    }
   ],
   "source": [
    "#QUES 5\n",
    "class Circle:\n",
    "    r=0.0\n",
    "    def __init__(self):\n",
    "        self.r=float(input(\"Enter radius:\"))\n",
    "    def perimeter(self):\n",
    "        return(2*3.14*self.r)\n",
    "    def area(self):\n",
    "        return(3.14*self.r*self.r)\n",
    "obj=Circle()\n",
    "print(\"The Circumference of the circle is \",obj.perimeter())\n",
    "print(\"The arae of the circle is \",obj.area())\n",
    "    "
   ]
  },
  {
   "cell_type": "code",
   "execution_count": 37,
   "metadata": {},
   "outputs": [
    {
     "name": "stdout",
     "output_type": "stream",
     "text": [
      "ENter celsius Temperature:25\n",
      "The conversion from celsius to fahrenheit is: 77.0\n",
      "ENter Fahrenheit Temperature:77\n",
      "The conversion from fahrenheit to celsius is: 25.0\n"
     ]
    }
   ],
   "source": [
    "#QUES 6\n",
    "class Temperature:\n",
    "    f=0.0\n",
    "    c=0.0\n",
    "    def convert_fahrenheit(self):\n",
    "        self.c=float(input(\"ENter celsius Temperature:\"))\n",
    "        return((1.8*self.c)+32)\n",
    "    def convert_celsius(self):\n",
    "        self.f=float(input(\"ENter Fahrenheit Temperature:\"))\n",
    "        return((self.f-32)/1.8)\n",
    "obj=Temperature()\n",
    "print(\"The conversion from celsius to fahrenheit is:\",obj.convert_fahrenheit())\n",
    "print(\"The conversion from fahrenheit to celsius is:\",obj.convert_celsius())"
   ]
  },
  {
   "cell_type": "code",
   "execution_count": 5,
   "metadata": {},
   "outputs": [
    {
     "name": "stdout",
     "output_type": "stream",
     "text": [
      "Enter the Marks:100\n",
      "Enter the Age:20\n",
      "The details of the student are: ('Fardeen', 20, '2k18csun01061', 100)\n"
     ]
    }
   ],
   "source": [
    "#QUES 7\n",
    "class Student:\n",
    "    Name=\"\"\n",
    "    Roll_no=\"\"\n",
    "    Age=0\n",
    "    Marks=0\n",
    "    def __init__(self, name, roll_no):\n",
    "        self.Name=name\n",
    "        self.Roll_no=roll_no\n",
    "    def set_age(self):\n",
    "        self.Age=int(input(\"Enter the Age:\"))\n",
    "    def set_marks(self):\n",
    "        self.Marks=int(input(\"Enter the Marks:\"))\n",
    "    def display(self):\n",
    "        return self.Name,self.Age,self.Roll_no,self.Marks \n",
    "obj= Student(\"Fardeen\",\"2k18csun01061\")\n",
    "obj.set_marks()\n",
    "obj.set_age()\n",
    "print(\"The details of the student are:\",obj.display())\n"
   ]
  },
  {
   "cell_type": "code",
   "execution_count": 2,
   "metadata": {},
   "outputs": [
    {
     "name": "stdout",
     "output_type": "stream",
     "text": [
      "Enter the no.of hrs:3\n",
      "Enter the no.of mins:52\n",
      "Enter the no.of hrs:2\n",
      "Enter the no.of mins:45\n",
      "Time is 6  37\n",
      "Total Minutes are: 397\n"
     ]
    }
   ],
   "source": [
    "#QUES 8\n",
    "class Time:\n",
    "    hr1=0\n",
    "    min1=0\n",
    "    hr2=0\n",
    "    min2=0\n",
    "    thr=0\n",
    "    tmin=0\n",
    "    def add_time(self):\n",
    "        self.hr1=int(input(\"Enter the no.of hrs:\"))\n",
    "        self.min1=int(input(\"Enter the no.of mins:\"))\n",
    "        self.hr2=int(input(\"Enter the no.of hrs:\"))\n",
    "        self.min2=int(input(\"Enter the no.of mins:\"))\n",
    "        self.thr=self.hr1+self.hr2\n",
    "        self.tmin=self.min1+self.min2\n",
    "        if(self.tmin>60):\n",
    "            self.thr=self.thr+(int(self.tmin/60))\n",
    "            self.tmin=self.tmin%60\n",
    "    def display_time(self):\n",
    "        print(\"Time is\",self.thr,\"\",self.tmin)\n",
    "    def display_tmin(self):\n",
    "        print(\"Total Minutes are:\",60*self.thr+self.tmin)\n",
    "    \n",
    "obj=Time()\n",
    "obj.add_time()\n",
    "obj.display_time()\n",
    "obj.display_tmin()        \n",
    "\n",
    "    "
   ]
  },
  {
   "cell_type": "code",
   "execution_count": 6,
   "metadata": {},
   "outputs": [
    {
     "name": "stdout",
     "output_type": "stream",
     "text": [
      "Enter a string:fardeen\n",
      "Reverse string is needraf\n"
     ]
    }
   ],
   "source": [
    "#QUES 9\n",
    "class reversestring:\n",
    "    a=\"\"\n",
    "    def rev_function(self):\n",
    "        self.a=input(\"Enter a string:\")\n",
    "        return self.a[::-1]\n",
    "rev=reversestring()\n",
    "print(\"Reverse string is\",rev.rev_function())"
   ]
  },
  {
   "cell_type": "code",
   "execution_count": null,
   "metadata": {},
   "outputs": [],
   "source": []
  }
 ],
 "metadata": {
  "kernelspec": {
   "display_name": "Python 3",
   "language": "python",
   "name": "python3"
  },
  "language_info": {
   "codemirror_mode": {
    "name": "ipython",
    "version": 3
   },
   "file_extension": ".py",
   "mimetype": "text/x-python",
   "name": "python",
   "nbconvert_exporter": "python",
   "pygments_lexer": "ipython3",
   "version": "3.7.4"
  }
 },
 "nbformat": 4,
 "nbformat_minor": 2
}
