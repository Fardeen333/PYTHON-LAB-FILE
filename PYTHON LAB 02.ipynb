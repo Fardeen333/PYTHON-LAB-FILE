{
 "cells": [
  {
   "cell_type": "code",
   "execution_count": null,
   "metadata": {},
   "outputs": [],
   "source": [
    "#FARDEEN\n",
    "#B tech CSE 4A\n",
    "#2K18CSUN01061"
   ]
  },
  {
   "cell_type": "markdown",
   "metadata": {},
   "source": [
    "LAB 02"
   ]
  },
  {
   "cell_type": "code",
   "execution_count": 1,
   "metadata": {},
   "outputs": [
    {
     "name": "stdout",
     "output_type": "stream",
     "text": [
      "Hello\n"
     ]
    }
   ],
   "source": [
    "print(\"Hello\")"
   ]
  },
  {
   "cell_type": "code",
   "execution_count": 2,
   "metadata": {},
   "outputs": [
    {
     "data": {
      "text/plain": [
       "5"
      ]
     },
     "execution_count": 2,
     "metadata": {},
     "output_type": "execute_result"
    }
   ],
   "source": [
    "2+3\n"
   ]
  },
  {
   "cell_type": "code",
   "execution_count": 3,
   "metadata": {},
   "outputs": [
    {
     "data": {
      "text/plain": [
       "5"
      ]
     },
     "execution_count": 3,
     "metadata": {},
     "output_type": "execute_result"
    }
   ],
   "source": [
    "int('2')+int('3')"
   ]
  },
  {
   "cell_type": "code",
   "execution_count": 4,
   "metadata": {},
   "outputs": [
    {
     "data": {
      "text/plain": [
       "2016"
      ]
     },
     "execution_count": 4,
     "metadata": {},
     "output_type": "execute_result"
    }
   ],
   "source": [
    "year=2016\n",
    "year"
   ]
  },
  {
   "cell_type": "code",
   "execution_count": 5,
   "metadata": {},
   "outputs": [
    {
     "data": {
      "text/plain": [
       "2018"
      ]
     },
     "execution_count": 5,
     "metadata": {},
     "output_type": "execute_result"
    }
   ],
   "source": [
    "year=2016\n",
    "year=2017\n",
    "year=2018\n",
    "year\n"
   ]
  },
  {
   "cell_type": "markdown",
   "metadata": {},
   "source": [
    "Ques 1"
   ]
  },
  {
   "cell_type": "code",
   "execution_count": 6,
   "metadata": {},
   "outputs": [
    {
     "name": "stdout",
     "output_type": "stream",
     "text": [
      "9\n",
      "The entered number is odd\n"
     ]
    }
   ],
   "source": [
    "a=int(input())\n",
    "if(a%2==0):\n",
    "    print(\"The entered number is even\")\n",
    "else:\n",
    "    print(\"The entered number is odd\")\n"
   ]
  },
  {
   "cell_type": "markdown",
   "metadata": {},
   "source": [
    "QUES 2"
   ]
  },
  {
   "cell_type": "code",
   "execution_count": 15,
   "metadata": {},
   "outputs": [
    {
     "name": "stdout",
     "output_type": "stream",
     "text": [
      "Enter a year:2016\n",
      "The entered year is a leap year\n"
     ]
    }
   ],
   "source": [
    "year=int(input(\"Enter a year:\"))\n",
    "if(year%100==0):\n",
    "    if(year%400==0):\n",
    "        if(year%4==0):\n",
    "            print(\"The entered year is a leap year\")\n",
    "        else:\n",
    "            print(\"The entered year is not a leap year\")\n",
    "    else:\n",
    "        print(\"The entered year is a leap year\")\n",
    "else:\n",
    "    print(\"The entered year is a leap year\")        "
   ]
  },
  {
   "cell_type": "markdown",
   "metadata": {},
   "source": [
    "QUES 3"
   ]
  },
  {
   "cell_type": "code",
   "execution_count": 21,
   "metadata": {},
   "outputs": [
    {
     "name": "stdout",
     "output_type": "stream",
     "text": [
      "Enter a Alphabet :e\n",
      "The Entered alphabet is a vowel\n"
     ]
    }
   ],
   "source": [
    "fa=str(input(\"Enter a Alphabet :\"))\n",
    "if fa=='a' or fa=='e' or fa=='i' or fa=='o' or fa=='u'  or fa=='A'  or fa=='E'  or fa=='I'  or fa=='O'  or fa=='U' :\n",
    "    print(\"The Entered alphabet is a vowel\")\n",
    "else:\n",
    "    print(\"The Entered alphabet is a consonant\")\n"
   ]
  },
  {
   "cell_type": "markdown",
   "metadata": {},
   "source": [
    "QUES 4"
   ]
  },
  {
   "cell_type": "code",
   "execution_count": 24,
   "metadata": {},
   "outputs": [
    {
     "name": "stdout",
     "output_type": "stream",
     "text": [
      "Enter 1st number:23\n",
      "Enter 2nd number:23\n",
      "23 is greater than 23\n"
     ]
    }
   ],
   "source": [
    "a=int(input(\"Enter 1st number:\"))\n",
    "b=int(input(\"Enter 2nd number:\"))\n",
    "if a>b :\n",
    "    print(a,\"is greater than\",b)\n",
    "else:\n",
    "    print(b,\"is greater than\",a)"
   ]
  },
  {
   "cell_type": "markdown",
   "metadata": {},
   "source": [
    "QUES 5"
   ]
  },
  {
   "cell_type": "code",
   "execution_count": 7,
   "metadata": {},
   "outputs": [
    {
     "name": "stdout",
     "output_type": "stream",
     "text": [
      "ENter a number5\n",
      "The Factorial of the entered number is 120\n"
     ]
    }
   ],
   "source": [
    "num=int(input(\"ENter a number\"))\n",
    "factorial=1\n",
    "if num==1:\n",
    "    print(\"The Factorial of 1 is 1\")\n",
    "elif num==0:\n",
    "    print(\"The Factorial of 0 is 1\")\n",
    "else:\n",
    "    for i in range(1,num+1):\n",
    "        factorial=factorial*i;\n",
    "print(\"The Factorial of the entered number is\",factorial)"
   ]
  },
  {
   "cell_type": "markdown",
   "metadata": {},
   "source": [
    "QUES 6"
   ]
  },
  {
   "cell_type": "code",
   "execution_count": 3,
   "metadata": {},
   "outputs": [
    {
     "name": "stdout",
     "output_type": "stream",
     "text": [
      "      *      \n",
      "    *   *    \n",
      "  *   *   *  \n",
      "*   *   *   *\n"
     ]
    }
   ],
   "source": [
    "print(\" \",\" \",\" \",\"*\",\" \",\" \",\" \")\n",
    "print(\" \",\" \",\"*\",\" \",\"*\",\" \",\" \")\n",
    "print(\" \",\"*\",\" \",\"*\",\" \",\"*\",\" \")\n",
    "print(\"*\",\" \",\"*\",\" \",\"*\",\" \",\"*\")"
   ]
  },
  {
   "cell_type": "markdown",
   "metadata": {},
   "source": [
    "QUES 6"
   ]
  },
  {
   "cell_type": "code",
   "execution_count": 9,
   "metadata": {},
   "outputs": [
    {
     "name": "stdout",
     "output_type": "stream",
     "text": [
      "Enter the nth term:13\n",
      "Fibonacci Series :\n",
      "0  \n",
      "1  \n",
      "1  \n",
      "2  \n",
      "3  \n",
      "5  \n",
      "8  \n",
      "13  \n"
     ]
    }
   ],
   "source": [
    "n=int(input(\"Enter the nth term:\"))\n",
    "a=0\n",
    "b=1\n",
    "sum=0\n",
    "print(\"Fibonacci Series :\")\n",
    "while(sum<=n):\n",
    "    print(sum,\" \")\n",
    "    a=b\n",
    "    b=sum\n",
    "    sum=a+b"
   ]
  },
  {
   "cell_type": "markdown",
   "metadata": {},
   "source": [
    "QUES 7"
   ]
  },
  {
   "cell_type": "code",
   "execution_count": 11,
   "metadata": {},
   "outputs": [
    {
     "name": "stdout",
     "output_type": "stream",
     "text": [
      "Enter a Number:13\n",
      "The entered number is prime\n"
     ]
    }
   ],
   "source": [
    "a=int(input(\"Enter a Number:\"))\n",
    "if a==1:\n",
    "    print(\"1 cannot be defined as prime or not\")\n",
    "else:\n",
    "    for x in range(2,a):\n",
    "        if a%x==0:\n",
    "            print(\"The entered number is not prime\")\n",
    "            break\n",
    "        else:\n",
    "            print(\"The entered number is prime\")\n",
    "            break"
   ]
  },
  {
   "cell_type": "markdown",
   "metadata": {},
   "source": [
    "QUES 8"
   ]
  },
  {
   "cell_type": "code",
   "execution_count": 12,
   "metadata": {},
   "outputs": [
    {
     "name": "stdout",
     "output_type": "stream",
     "text": [
      "Enter 1st Number:8\n",
      "Enter 2nd Number:9\n",
      "Enter the operation you want to perform*\n",
      "Product= 72\n"
     ]
    }
   ],
   "source": [
    "a=int(input(\"Enter 1st Number:\"))\n",
    "b=int(input(\"Enter 2nd Number:\"))\n",
    "c=input(\"Enter the operation you want to perform\")\n",
    "if c=='+':\n",
    "    sum=a+b\n",
    "    print(\"Sum=\",sum)\n",
    "elif c=='-':\n",
    "    diff=a-b\n",
    "    print(\"Difference=\",diff)\n",
    "elif c=='*':\n",
    "    mul=a*b\n",
    "    print(\"Product=\",mul)\n",
    "elif c=='/':\n",
    "    div=a/b\n",
    "    print(\"Division=\",div)\n",
    "else:\n",
    "    print(\"Invalid Operation\")\n",
    "    "
   ]
  },
  {
   "cell_type": "code",
   "execution_count": 1,
   "metadata": {},
   "outputs": [
    {
     "data": {
      "text/plain": [
       "25"
      ]
     },
     "execution_count": 1,
     "metadata": {},
     "output_type": "execute_result"
    }
   ],
   "source": [
    "5**2"
   ]
  },
  {
   "cell_type": "code",
   "execution_count": 2,
   "metadata": {},
   "outputs": [
    {
     "data": {
      "text/plain": [
       "3.3333333333333335"
      ]
     },
     "execution_count": 2,
     "metadata": {},
     "output_type": "execute_result"
    }
   ],
   "source": [
    "10/3\n"
   ]
  },
  {
   "cell_type": "code",
   "execution_count": 3,
   "metadata": {},
   "outputs": [
    {
     "data": {
      "text/plain": [
       "3"
      ]
     },
     "execution_count": 3,
     "metadata": {},
     "output_type": "execute_result"
    }
   ],
   "source": [
    "10//3"
   ]
  },
  {
   "cell_type": "code",
   "execution_count": null,
   "metadata": {},
   "outputs": [],
   "source": []
  }
 ],
 "metadata": {
  "kernelspec": {
   "display_name": "Python 3",
   "language": "python",
   "name": "python3"
  },
  "language_info": {
   "codemirror_mode": {
    "name": "ipython",
    "version": 3
   },
   "file_extension": ".py",
   "mimetype": "text/x-python",
   "name": "python",
   "nbconvert_exporter": "python",
   "pygments_lexer": "ipython3",
   "version": "3.7.4"
  }
 },
 "nbformat": 4,
 "nbformat_minor": 2
}
